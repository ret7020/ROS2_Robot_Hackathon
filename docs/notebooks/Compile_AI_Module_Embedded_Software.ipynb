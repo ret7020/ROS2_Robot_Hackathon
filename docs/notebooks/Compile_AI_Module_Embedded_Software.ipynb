{
  "nbformat": 4,
  "nbformat_minor": 0,
  "metadata": {
    "colab": {
      "provenance": []
    },
    "kernelspec": {
      "name": "python3",
      "display_name": "Python 3"
    },
    "language_info": {
      "name": "python"
    }
  },
  "cells": [
    {
      "cell_type": "markdown",
      "source": [
        "## Настройка окружения"
      ],
      "metadata": {
        "id": "IPM2hVNf18_m"
      }
    },
    {
      "cell_type": "code",
      "execution_count": null,
      "metadata": {
        "id": "PbAg8g1N1OU4"
      },
      "outputs": [],
      "source": [
        "!git clone https://github.com/ret7020/ROS2_Robot_Hackathon/"
      ]
    },
    {
      "cell_type": "code",
      "source": [
        "!wget https://sophon-file.sophon.cn/sophon-prod-s3/drive/23/03/07/16/host-tools.tar.gz # набор кросс-компиляторов\n",
        "!tar xvf host-tools.tar.gz\n",
        "# Patch cross-compiler ioctl\n",
        "!sed -i '9s/^/\\/\\//' /content/host-tools/gcc/riscv64-linux-musl-x86_64/sysroot/usr/include/sys/ioctl.h\n",
        "!gdown 1cp7E3I2t7Tj-ljuCz68jh6kW2QPu-sLa\n",
        "!tar xvf cvitek_tdl_sdk_1228.tar.gz"
      ],
      "metadata": {
        "id": "EGVY7g0I1UlH"
      },
      "execution_count": null,
      "outputs": []
    },
    {
      "cell_type": "code",
      "source": [
        "import os\n",
        "\n",
        "os.environ[\"COMPILER\"] = \"/content/host-tools/gcc/riscv64-linux-musl-x86_64/bin\"\n",
        "os.environ[\"SDK_PATH\"] = \"/content/\""
      ],
      "metadata": {
        "id": "8mDmDlXm1cND"
      },
      "execution_count": null,
      "outputs": []
    },
    {
      "cell_type": "markdown",
      "source": [
        "## Собираем детектор"
      ],
      "metadata": {
        "id": "qOECUTMi18Lf"
      }
    },
    {
      "cell_type": "code",
      "source": [
        "%cd /content/ROS2_Robot_Hackathon/ai_module_sources/inference"
      ],
      "metadata": {
        "id": "sJDHv52u27Ab"
      },
      "execution_count": null,
      "outputs": []
    },
    {
      "cell_type": "code",
      "source": [
        "%cd libs\n",
        "!chmod +x ./download.sh\n",
        "!./download.sh\n",
        "%cd ../"
      ],
      "metadata": {
        "id": "j2NNc01SAbqX"
      },
      "execution_count": null,
      "outputs": []
    },
    {
      "cell_type": "code",
      "source": [
        "!mkdir build\n",
        "%cd build\n",
        "!cmake .."
      ],
      "metadata": {
        "id": "f2OcGmI_APBp"
      },
      "execution_count": null,
      "outputs": []
    },
    {
      "cell_type": "code",
      "source": [
        "!make"
      ],
      "metadata": {
        "id": "tNSp4b6CCPsq"
      },
      "execution_count": null,
      "outputs": []
    }
  ]
}