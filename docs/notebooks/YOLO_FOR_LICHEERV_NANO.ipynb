{
  "nbformat": 4,
  "nbformat_minor": 0,
  "metadata": {
    "colab": {
      "provenance": [],
      "gpuType": "T4"
    },
    "kernelspec": {
      "name": "python3",
      "display_name": "Python 3"
    },
    "language_info": {
      "name": "python"
    },
    "accelerator": "GPU"
  },
  "cells": [
    {
      "cell_type": "markdown",
      "source": [
        "# Обучение YOLO"
      ],
      "metadata": {
        "id": "QWo1aT3_kYXx"
      }
    },
    {
      "cell_type": "markdown",
      "source": [
        "Монтирование гугл диска"
      ],
      "metadata": {
        "id": "9RG7KPSJklqE"
      }
    },
    {
      "cell_type": "code",
      "source": [
        "from google.colab import drive\n",
        "drive.mount('/content/drive')"
      ],
      "metadata": {
        "id": "S-VzAARf3DYb"
      },
      "execution_count": null,
      "outputs": []
    },
    {
      "cell_type": "markdown",
      "source": [
        "Установка YOLO"
      ],
      "metadata": {
        "id": "_SmC6wJy3yd5"
      }
    },
    {
      "cell_type": "code",
      "source": [
        "# Install yolo\n",
        "!pip3 install ultralytics"
      ],
      "metadata": {
        "id": "mu3EdP9Qlp8L"
      },
      "execution_count": null,
      "outputs": []
    },
    {
      "cell_type": "markdown",
      "source": [
        "Копирование датасета с гугл диска, путь замените на свой"
      ],
      "metadata": {
        "id": "jovAe1-lkcfI"
      }
    },
    {
      "cell_type": "code",
      "execution_count": null,
      "metadata": {
        "id": "yRRzuVuEkKuw"
      },
      "outputs": [],
      "source": [
        "!mkdir dataset\n",
        "!cp /content/drive/MyDrive/Fruits.v3i.yolov11.zip /content/dataset\n",
        "!unzip /content/dataset/Fruits.v3i.yolov11.zip -d /content/dataset > /dev/null"
      ]
    },
    {
      "cell_type": "markdown",
      "source": [
        "Исправление путей в конфигурации датасета"
      ],
      "metadata": {
        "id": "NiqxN4xX32NQ"
      }
    },
    {
      "cell_type": "code",
      "source": [
        "# Fix path\n",
        "import yaml\n",
        "\n",
        "train_path = '/content/dataset/train'\n",
        "val_path = '/content/dataset/valid'\n",
        "test_path = '/content/dataset/test'\n",
        "\n",
        "yaml_path = '/content/dataset/data.yaml'\n",
        "\n",
        "with open(yaml_path, 'r') as f:\n",
        "    data = yaml.safe_load(f)\n",
        "\n",
        "data['train'] = train_path\n",
        "data['val'] = val_path\n",
        "data['test'] = test_path\n",
        "\n",
        "with open(yaml_path, 'w') as f:\n",
        "    yaml.safe_dump(data, f)\n"
      ],
      "metadata": {
        "id": "CEdm7hPWlRuE"
      },
      "execution_count": null,
      "outputs": []
    },
    {
      "cell_type": "markdown",
      "source": [
        "Стандартная процедура обучения. Можете поменять количество эпох, размер изображений и период сохранения промежуточных весов модели"
      ],
      "metadata": {
        "id": "aP4Xg1Ny36UJ"
      }
    },
    {
      "cell_type": "code",
      "source": [
        "# Train\n",
        "\n",
        "# Tune epochs, imgsz, save_T\n",
        "from ultralytics import YOLO\n",
        "\n",
        "model = YOLO(\"yolo11n.pt\")\n",
        "results = model.train(data=\"/content/dataset/data.yaml\", epochs=100, imgsz=640, save_period=10)"
      ],
      "metadata": {
        "id": "uYs8XwX8lv7I"
      },
      "execution_count": null,
      "outputs": []
    },
    {
      "cell_type": "markdown",
      "source": [
        "Визуализация графиков обучения модели"
      ],
      "metadata": {
        "id": "NZ5_73s44E4U"
      }
    },
    {
      "cell_type": "code",
      "source": [
        "import matplotlib.pyplot as plt\n",
        "import matplotlib.image as mpimg\n",
        "\n",
        "img_path = '/content/runs/detect/train/results.png'\n",
        "\n",
        "img = mpimg.imread(img_path)\n",
        "plt.imshow(img)\n",
        "plt.axis('off')\n",
        "plt.show()"
      ],
      "metadata": {
        "id": "iLj9BrTmt1h8"
      },
      "execution_count": null,
      "outputs": []
    },
    {
      "cell_type": "markdown",
      "source": [
        "# Конвертация под плату"
      ],
      "metadata": {
        "id": "xEiM-zebl4Gv"
      }
    },
    {
      "cell_type": "markdown",
      "source": [
        "Настраиваем окружение и скачиваем/устанавливаем все пакеты"
      ],
      "metadata": {
        "id": "F79OReTZ4Jxd"
      }
    },
    {
      "cell_type": "code",
      "source": [
        "# Env setup\n",
        "# Via google drive feature copy LicheeRV Nano dir to users drive;\n",
        "!cp /content/drive/MyDrive/LicheeRV_Nano_Resources/tpu-mlir_v1.9.beta.0-110-gfdb73ce31-20240719.tar.gz tpu-mlir.tar.gz\n",
        "!mkdir tpu_mlir\n",
        "!tar -xzf tpu-mlir.tar.gz -C tpu_mlir --strip-components=1\n",
        "!mv ./tpu_mlir/$(ls ./tpu_mlir) ./tpu_mlir/source\n",
        "!wget https://github.com/sophgo/tpu-mlir/releases/download/v1.14/tpu_mlir-1.14-py3-none-any.whl\n",
        "!sudo add-apt-repository ppa:deadsnakes/ppa -y\n",
        "!sudo apt update\n",
        "!sudo apt install python3.10\n",
        "!wget https://bootstrap.pypa.io/get-pip.py\n",
        "!python3.10 get-pip.py\n",
        "!python3.10 -m pip install tpu_mlir-1.14-py3-none-any.whl\n",
        "!python3.10 -m pip install flatbuffers\n",
        "!python3.10 -m pip install ultralytics\n",
        "!python3.10 -m pip install onnxsim\n",
        "!python3.10 -m pip install matplotlib-inline\n",
        "!python3.10 -m pip install onnxruntime\n",
        "!wget https://raw.githubusercontent.com/ret7020/LicheeRVNano/refs/heads/master/Projects/Yolov8/export_to_onnx.py"
      ],
      "metadata": {
        "id": "puunesPjmRCF"
      },
      "execution_count": null,
      "outputs": []
    },
    {
      "cell_type": "code",
      "source": [
        "!cp /content/runs/detect/train/weights/best.pt /content/my_model.pt"
      ],
      "metadata": {
        "id": "9N8DwoLvwA3N"
      },
      "execution_count": null,
      "outputs": []
    },
    {
      "cell_type": "markdown",
      "source": [
        "Экспорт модели в ONNX"
      ],
      "metadata": {
        "id": "LGeFTgUN4OvS"
      }
    },
    {
      "cell_type": "code",
      "source": [
        "!python3.10 export_to_onnx.py my_model.pt 640 640"
      ],
      "metadata": {
        "id": "9zlb6fhVxgyf"
      },
      "execution_count": null,
      "outputs": []
    },
    {
      "cell_type": "markdown",
      "source": [
        "Настройка конвертации модели под плату"
      ],
      "metadata": {
        "id": "lZ0zwn2M4RJD"
      }
    },
    {
      "cell_type": "code",
      "source": [
        "import os\n",
        "\n",
        "# Set model input image size\n",
        "os.environ['IMG_SIZE_W'] = \"640\"\n",
        "os.environ['IMG_SIZE_H'] = \"640\"\n",
        "\n",
        "# Path to dataset for calibration matrix\n",
        "os.environ['CALIBRATION_DATASET_PATH'] = \"/content/dataset/train/images\"\n",
        "os.environ['CALIBRATION_IMAGES_COUNT'] = \"10\"\n",
        "os.environ['MODEL_NAME'] = \"my_model\"\n",
        "os.environ['TEST_IMG'] = \"/content/dataset/train/images/\" + sorted(os.listdir('/content/dataset/train/images'))[0] # first file from dataset for some export tests"
      ],
      "metadata": {
        "id": "fYgxPJEwv4Fu"
      },
      "execution_count": null,
      "outputs": []
    },
    {
      "cell_type": "code",
      "source": [
        "!mkdir /content/work\n",
        "%cd /content/work"
      ],
      "metadata": {
        "id": "IpfRHAHQwsg_"
      },
      "execution_count": null,
      "outputs": []
    },
    {
      "cell_type": "code",
      "source": [
        "!export PYTHONPATH=/usr/bin/python3.10\n",
        "!source ../tpu_mlir/source/envsetup.sh\n",
        "!model_transform.py --model_name $MODEL_NAME --model_def \"/content/${MODEL_NAME}.onnx\" --input_shapes [[1,3,$IMG_SIZE_W,$IMG_SIZE_H]] --mean 0.0,0.0,0.0 --scale 0.0039216,0.0039216,0.0039216 --keep_aspect_ratio --pixel_format rgb --test_input $TEST_IMG --test_result \"${MODEL_NAME}_top_outputs.npz\" --mlir $MODEL_NAME.mlir"
      ],
      "metadata": {
        "id": "8P8C5ACYw0i0"
      },
      "execution_count": null,
      "outputs": []
    },
    {
      "cell_type": "code",
      "source": [
        "!source ../tpu_mlir/source/envsetup.sh\n",
        "!echo \"${MODEL_NAME}_cali_table\"\n",
        "!run_calibration.py $MODEL_NAME.mlir \\\n",
        "--dataset $CALIBRATION_DATASET_PATH \\\n",
        "--input_num $CALIBRATION_IMAGES_COUNT \\\n",
        "-o \"${MODEL_NAME}_cali_table\""
      ],
      "metadata": {
        "id": "tfHDmMOPx6AQ"
      },
      "execution_count": null,
      "outputs": []
    },
    {
      "cell_type": "code",
      "source": [
        "!mkdir result\n",
        "!source ../tpu_mlir/source/envsetup.sh\n",
        "!model_deploy.py \\\n",
        "--mlir $MODEL_NAME.mlir \\\n",
        "--quant_input \\\n",
        "--quant_output \\\n",
        "--quantize int8 \\\n",
        "--calibration_table \"${MODEL_NAME}_cali_table\" \\\n",
        "--processor cv181x \\\n",
        "--test_input \"${MODEL_NAME}_in_f32.npz\" \\\n",
        "--test_reference \"${MODEL_NAME}_top_outputs.npz\" \\\n",
        "--tolerance 0.85,0.45 \\\n",
        "--model \"./result/${MODEL_NAME}.cvimodel\""
      ],
      "metadata": {
        "id": "dlUnr8E1zd8-"
      },
      "execution_count": null,
      "outputs": []
    },
    {
      "cell_type": "markdown",
      "source": [
        "Файл с итоговыми весами **/content/work/result/my_model.cvimodel**"
      ],
      "metadata": {
        "id": "xsptfqEp4XFq"
      }
    }
  ]
}